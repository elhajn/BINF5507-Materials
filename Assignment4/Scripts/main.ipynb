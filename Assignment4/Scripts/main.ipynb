{
 "cells": [
  {
   "cell_type": "markdown",
   "id": "dcdd43f1",
   "metadata": {},
   "source": [
    "# Assignment 4 Notebook\n",
    "## Kaplan-Meier Analysis"
   ]
  },
  {
   "cell_type": "code",
   "execution_count": null,
   "id": "c059165f",
   "metadata": {
    "vscode": {
     "languageId": "plaintext"
    }
   },
   "outputs": [],
   "source": [
    "import pandas as pd \n",
    "import numpy as np\n",
    "import matplotlib.pyplot as plt\n",
    "from lifelines import KaplanMeierFitter\n",
    "\n",
    "# import data\n",
    "data = pd.read_excel(\"../Data/RADCURE_Clinical_v04_20241219.xlsx\")\n",
    "\n",
    "# clean data\n",
    "clean_data = data.copy()\n",
    "missing_data = clean_data.isnull().sum() / len(clean_data) # calculate ratio of missing values per column\n",
    "\n",
    "drop_cols = missing_data[missing_data > 0.6].index # create an index of columns that exceed threshold\n",
    "clean_data.drop(drop_cols, \n",
    "                axis = 1, \n",
    "                inplace = True) # remove qualifying columns\n",
    "\n",
    "clean_data.dropna(inplace = True)\n",
    "\n",
    "relevant_data = clean_data[[\"Age\", \n",
    "                           \"Sex\", \n",
    "                           \"ECOG PS\", \n",
    "                           \"Smoking Status\", \n",
    "                           \"Ds Site\", \n",
    "                           \"Path\", \n",
    "                           \"Status\", \n",
    "                           \"Length FU\"]]\n",
    "\n",
    "for col in relevant_data.select_dtypes(include = [np.object_]).columns:\n",
    "    relevant_data[col].replace(relevant_data[col].unique(),\n",
    "                            range(0, len(relevant_data[col].unique())), \n",
    "                            inplace = True)\n",
    "    relevant_data[col].astype(int)\n",
    "\n",
    "# fit KME\n",
    "kmf = KaplanMeierFitter()\n",
    "kmf.fit(relevant_data['Length FU'], \n",
    "        event_observed = relevant_data['Status'])\n",
    "\n",
    "# Plot the Kaplan-Meier curve\n",
    "kmf.plot_survival_function()\n",
    "plt.title('Kaplan-Meier Curve')\n",
    "plt.xlabel('Time (Years)')\n",
    "plt.ylabel('Survival Probability')\n",
    "plt.show()"
   ]
  },
  {
   "cell_type": "markdown",
   "id": "0a792d78",
   "metadata": {},
   "source": [
    "## Cox Proportional Hazards Model"
   ]
  },
  {
   "cell_type": "code",
   "execution_count": null,
   "id": "4e9fed3b",
   "metadata": {
    "vscode": {
     "languageId": "plaintext"
    }
   },
   "outputs": [],
   "source": []
  },
  {
   "cell_type": "markdown",
   "id": "069dd15b",
   "metadata": {},
   "source": [
    "## Random Survival Forest"
   ]
  },
  {
   "cell_type": "code",
   "execution_count": null,
   "id": "a1327a3b",
   "metadata": {
    "vscode": {
     "languageId": "plaintext"
    }
   },
   "outputs": [],
   "source": []
  }
 ],
 "metadata": {
  "language_info": {
   "name": "python"
  }
 },
 "nbformat": 4,
 "nbformat_minor": 5
}
